{
 "cells": [
  {
   "cell_type": "code",
   "execution_count": 1,
   "metadata": {},
   "outputs": [],
   "source": [
    "import pandas as pd\n",
    "import numpy as np\n",
    "import os"
   ]
  },
  {
   "cell_type": "code",
   "execution_count": 5,
   "metadata": {},
   "outputs": [],
   "source": [
    "def extract_paras_columns(excel_filename,sheet_name,file_root=\"\",csv_generate_flag=False):\n",
    "    rawData=pd.read_excel(os.path.join(file_root,excel_filename),sheet_name=sheet_name)\n",
    "    columns_list=list(rawData.columns)\n",
    "    para_columns_list=[]\n",
    "    for column in columns_list:\n",
    "        if 'TIME' not in column:\n",
    "            para_columns_list.append(column)\n",
    "    df_para=rawData[para_columns_list].copy()\n",
    "    df_para['label']=0\n",
    "    df_para['label'][df_para['Y']>0]=1\n",
    "#     print(df_para.info())\n",
    "    if(csv_generate_flag):\n",
    "        df_M3_CLA_para.to_csv(os.path.join(file_root,\"data_generate\",excel_filename[:-5]+\"_paras.csv\"),index=False)\n",
    "    return df_para"
   ]
  },
  {
   "cell_type": "code",
   "execution_count": 6,
   "metadata": {},
   "outputs": [
    {
     "name": "stderr",
     "output_type": "stream",
     "text": [
      "C:\\ProgramData\\Anaconda3\\lib\\site-packages\\ipykernel_launcher.py:10: SettingWithCopyWarning: \n",
      "A value is trying to be set on a copy of a slice from a DataFrame\n",
      "\n",
      "See the caveats in the documentation: http://pandas.pydata.org/pandas-docs/stable/indexing.html#indexing-view-versus-copy\n",
      "  # Remove the CWD from sys.path while we load stuff.\n"
     ]
    }
   ],
   "source": [
    "df_M3_CLA=extract_paras_columns(\"./data/M3-CLA.xlsx\",'1_1')\n",
    "df_M3_CLA.drop(columns=['SHEET_ID','Y','OPERATION_ID','TOOL_ID','ABBR_NO','RECIPE_ID'],inplace=True)\n",
    "df_M3_CLA=df_M3_CLA.fillna(-1)"
   ]
  },
  {
   "cell_type": "code",
   "execution_count": 7,
   "metadata": {},
   "outputs": [
    {
     "name": "stdout",
     "output_type": "stream",
     "text": [
      "AK_Process_QUANTITY 0.011299435028248588\n",
      "EQ_Process_QUANTITY 0.011299435028248588\n",
      "Glass Data 0.5819209039548022\n",
      "HPMJ/FS_Process_QUANTITY 0.011299435028248588\n",
      "IN_CV_HEPA_Run (0:OFF//1:ON) 1.0\n",
      "IN_CV_ION_BAR_Run (0:OFF//1:ON) 1.0\n",
      "IN_CV_SPEED 0.7909604519774012\n",
      "NE_HEPA_Run (0:OFF//1:ON) 1.0\n",
      "NE_Process_QUANTITY 0.011299435028248588\n",
      "Out_CV_ESD_MONITOR 0.11016949152542373\n",
      "Out_CV_HEPA_Run (0:OFF//1:ON) 1.0\n",
      "Out_CV_ION_BAR_Run (0:OFF//1:ON) 1.0\n",
      "Out_CV_SPEED 1.0\n",
      "PANEL_LENGTH 1.0\n",
      "PANEL_THICKNESS 1.0\n",
      "PANEL_WIDTH_ 1.0\n",
      "PROCESS_CV_SPEED 1.0\n",
      "SH/KJ_Process_QUANTITY 0.011299435028248588\n",
      "label 0.7231638418079096\n",
      "['AK_Process_QUANTITY', 'EQ_Process_QUANTITY', 'Glass Data', 'HPMJ/FS_Process_QUANTITY', 'IN_CV_SPEED', 'NE_Process_QUANTITY', 'Out_CV_ESD_MONITOR', 'SH/KJ_Process_QUANTITY']\n"
     ]
    }
   ],
   "source": [
    "new_col=[]\n",
    "total=df_M3_CLA.shape[0]\n",
    "for _ in df_M3_CLA.columns:\n",
    "    a=pd.value_counts(df_M3_CLA[_])\n",
    "    df_=a/total\n",
    "    print(_,max(df_))\n",
    "    if (max(df_)<0.95):\n",
    "        new_col.append(_)\n",
    "new_col.remove('label')\n",
    "print(new_col)"
   ]
  },
  {
   "cell_type": "code",
   "execution_count": 8,
   "metadata": {},
   "outputs": [
    {
     "name": "stdout",
     "output_type": "stream",
     "text": [
      "(354, 8) (354,)\n"
     ]
    }
   ],
   "source": [
    "# df_M3_CLA.info()\n",
    "data_array=df_M3_CLA[new_col].values\n",
    "label_array=df_M3_CLA['label'].values\n",
    "print(data_array.shape,label_array.shape)"
   ]
  },
  {
   "cell_type": "code",
   "execution_count": 9,
   "metadata": {},
   "outputs": [],
   "source": [
    "from sklearn.model_selection import train_test_split\n",
    "X_train, X_test, y_train, y_test =train_test_split(data_array,label_array,test_size=0.1, random_state=0)"
   ]
  },
  {
   "cell_type": "code",
   "execution_count": 10,
   "metadata": {},
   "outputs": [],
   "source": [
    "import xgboost as xgb"
   ]
  },
  {
   "cell_type": "code",
   "execution_count": 11,
   "metadata": {},
   "outputs": [
    {
     "name": "stdout",
     "output_type": "stream",
     "text": [
      "[0]\ttrain-auc:0.85337\tvalidation-auc:0.801003\n",
      "Multiple eval metrics have been passed: 'validation-auc' will be used for early stopping.\n",
      "\n",
      "Will train until validation-auc hasn't improved in 2000 rounds.\n",
      "[100]\ttrain-auc:0.926079\tvalidation-auc:0.847826\n",
      "[200]\ttrain-auc:0.940621\tvalidation-auc:0.841137\n",
      "[300]\ttrain-auc:0.950543\tvalidation-auc:0.847826\n",
      "[400]\ttrain-auc:0.959682\tvalidation-auc:0.844482\n",
      "[500]\ttrain-auc:0.96559\tvalidation-auc:0.844482\n",
      "[600]\ttrain-auc:0.972254\tvalidation-auc:0.851171\n",
      "[700]\ttrain-auc:0.977708\tvalidation-auc:0.854515\n",
      "[800]\ttrain-auc:0.981747\tvalidation-auc:0.85786\n",
      "[900]\ttrain-auc:0.984474\tvalidation-auc:0.85786\n",
      "[1000]\ttrain-auc:0.985988\tvalidation-auc:0.861204\n",
      "[1100]\ttrain-auc:0.987655\tvalidation-auc:0.861204\n",
      "[1200]\ttrain-auc:0.989119\tvalidation-auc:0.861204\n",
      "[1300]\ttrain-auc:0.990533\tvalidation-auc:0.861204\n",
      "[1400]\ttrain-auc:0.991896\tvalidation-auc:0.877926\n",
      "[1500]\ttrain-auc:0.992805\tvalidation-auc:0.877926\n",
      "[1600]\ttrain-auc:0.993613\tvalidation-auc:0.881271\n",
      "[1700]\ttrain-auc:0.994522\tvalidation-auc:0.881271\n",
      "[1800]\ttrain-auc:0.995279\tvalidation-auc:0.881271\n",
      "[1900]\ttrain-auc:0.996036\tvalidation-auc:0.877926\n",
      "[2000]\ttrain-auc:0.996238\tvalidation-auc:0.877926\n",
      "[2100]\ttrain-auc:0.99644\tvalidation-auc:0.88796\n",
      "[2200]\ttrain-auc:0.996693\tvalidation-auc:0.88796\n",
      "[2300]\ttrain-auc:0.996895\tvalidation-auc:0.881271\n",
      "[2400]\ttrain-auc:0.996996\tvalidation-auc:0.881271\n",
      "[2500]\ttrain-auc:0.997147\tvalidation-auc:0.877926\n",
      "[2600]\ttrain-auc:0.997299\tvalidation-auc:0.877926\n",
      "[2700]\ttrain-auc:0.9974\tvalidation-auc:0.877926\n",
      "[2800]\ttrain-auc:0.997602\tvalidation-auc:0.881271\n",
      "[2900]\ttrain-auc:0.997652\tvalidation-auc:0.881271\n",
      "[3000]\ttrain-auc:0.997804\tvalidation-auc:0.884615\n",
      "[3100]\ttrain-auc:0.997905\tvalidation-auc:0.881271\n",
      "[3200]\ttrain-auc:0.997955\tvalidation-auc:0.881271\n",
      "[3300]\ttrain-auc:0.998258\tvalidation-auc:0.881271\n",
      "[3400]\ttrain-auc:0.998359\tvalidation-auc:0.884615\n",
      "[3500]\ttrain-auc:0.99846\tvalidation-auc:0.877926\n",
      "[3600]\ttrain-auc:0.998611\tvalidation-auc:0.881271\n",
      "[3700]\ttrain-auc:0.998712\tvalidation-auc:0.884615\n",
      "Stopping. Best iteration:\n",
      "[1725]\ttrain-auc:0.994572\tvalidation-auc:0.88796\n",
      "\n"
     ]
    }
   ],
   "source": [
    "xgb_params = {'eta': 0.005, 'max_depth': 10, 'subsample': 0.8, 'colsample_bytree': 0.8,\n",
    "          'objective': 'binary:logistic', 'eval_metric': 'auc', 'silent': True, 'nthread': 4}\n",
    "trn_data = xgb.DMatrix(X_train, y_train)\n",
    "val_data = xgb.DMatrix(X_test, y_test)\n",
    "watchlist = [(trn_data, 'train'),(val_data,'validation')]\n",
    "\n",
    "clf = xgb.train(dtrain=trn_data, num_boost_round=20000, evals=watchlist, early_stopping_rounds=2000,\n",
    "                    verbose_eval=100, params=xgb_params)"
   ]
  },
  {
   "cell_type": "code",
   "execution_count": 12,
   "metadata": {},
   "outputs": [
    {
     "data": {
      "text/plain": [
       "{'f6': 9980,\n",
       " 'f2': 6701,\n",
       " 'f1': 7989,\n",
       " 'f7': 2946,\n",
       " 'f0': 26799,\n",
       " 'f4': 2032,\n",
       " 'f3': 1154,\n",
       " 'f5': 184}"
      ]
     },
     "execution_count": 12,
     "metadata": {},
     "output_type": "execute_result"
    }
   ],
   "source": [
    "# for _ in range(10)\n",
    "clf.get_score()"
   ]
  },
  {
   "cell_type": "code",
   "execution_count": 29,
   "metadata": {},
   "outputs": [
    {
     "data": {
      "image/png": "[encoded data removed]",
      "text/plain": [
       "<Figure size 432x288 with 1 Axes>"
      ]
     },
     "metadata": {},
     "output_type": "display_data"
    }
   ],
   "source": [
    "import matplotlib.pyplot as plt\n",
    "xgb.plot_importance(booster=clf)\n",
    "plt.show()"
   ]
  },
  {
   "cell_type": "code",
   "execution_count": 30,
   "metadata": {},
   "outputs": [
    {
     "data": {
      "text/plain": [
       "['Out_CV_ESD_MONITOR',\n",
       " 'Glass Data',\n",
       " 'AK_Process_QUANTITY',\n",
       " 'IN_CV_SPEED',\n",
       " 'SH/KJ_Process_QUANTITY',\n",
       " 'HPMJ/FS_Process_QUANTITY',\n",
       " 'EQ_Process_QUANTITY',\n",
       " 'NE_Process_QUANTITY']"
      ]
     },
     "execution_count": 30,
     "metadata": {},
     "output_type": "execute_result"
    }
   ],
   "source": [
    "new_col"
   ]
  },
  {
   "cell_type": "code",
   "execution_count": null,
   "metadata": {},
   "outputs": [],
   "source": [
    "# clf=xgb.XGBClassifier(eta= 0.005,\n",
    "#               max_depth= 10 ,\n",
    "#               min_child_weight= 1 ,\n",
    "#               subsample=0.8 ,\n",
    "#               colsample_bytree= 0.8 ,\n",
    "#               eval_metric='auc',\n",
    "#               objective= 'binary:logistic',\n",
    "#               booster=\"gbtree\",\n",
    "#               silent= True)\n",
    "# clf.fit(X=X_train,y=y_train,eval_set=[(X_test,y_test)],eval_metric='auc',verbose=True)"
   ]
  },
  {
   "cell_type": "code",
   "execution_count": null,
   "metadata": {},
   "outputs": [],
   "source": []
  }
 ],
 "metadata": {
  "kernelspec": {
   "display_name": "Python 3",
   "language": "python",
   "name": "python3"
  },
  "language_info": {
   "codemirror_mode": {
    "name": "ipython",
    "version": 3
   },
   "file_extension": ".py",
   "mimetype": "text/x-python",
   "name": "python",
   "nbconvert_exporter": "python",
   "pygments_lexer": "ipython3",
   "version": "3.7.1"
  }
 },
 "nbformat": 4,
 "nbformat_minor": 2
}
